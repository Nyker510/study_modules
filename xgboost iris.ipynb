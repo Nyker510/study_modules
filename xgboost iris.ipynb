{
 "cells": [
  {
   "cell_type": "code",
   "execution_count": 2,
   "metadata": {
    "collapsed": true
   },
   "outputs": [],
   "source": [
    "import xgboost as xgb\n",
    "import matplotlib.pyplot as plt\n",
    "import numpy as np\n",
    "from sklearn import datasets\n",
    "import pandas as pd\n",
    "import seaborn as sns\n",
    "%matplotlib inline"
   ]
  },
  {
   "cell_type": "code",
   "execution_count": 3,
   "metadata": {
    "collapsed": true
   },
   "outputs": [],
   "source": [
    "iris = datasets.load_iris()"
   ]
  },
  {
   "cell_type": "markdown",
   "metadata": {},
   "source": [
    "# xgb.DMatrix\n",
    "DMatrixには名前とデータを入れられれる  \n",
    "その名前はboosterにも引き継がれるので設定しておくと後で便利\n",
    "\n",
    "feature_namesは設定すると後でラクダが、feature_typesはplot_treeの見た目を変えるだけであまり変化はない（つけたければ、ぐらい）"
   ]
  },
  {
   "cell_type": "code",
   "execution_count": 6,
   "metadata": {
    "collapsed": false
   },
   "outputs": [],
   "source": [
    "features = ['SepalLength', 'SepalWidth', 'PetalLength', 'PetalWidth']"
   ]
  },
  {
   "cell_type": "code",
   "execution_count": 8,
   "metadata": {
    "collapsed": false
   },
   "outputs": [],
   "source": [
    "dm = xgb.DMatrix(iris.data,label=iris.target,feature_names=features,\n",
    "                )"
   ]
  },
  {
   "cell_type": "markdown",
   "metadata": {},
   "source": [
    "# Parameterの設定\n",
    "\n",
    "boosterのパラメータを設定できる。\n",
    "\n",
    "* eta[default=.3]\n",
    "    * ステップサイズのshinkageパラメータ。小さいとたくさんshrinke\n",
    "* gamma\n",
    "    * 損失還元（loss reduction）\n",
    "    * 木の葉を分割するときに必要とするパラメータ\n",
    "    * 小さいと、簡単に分枝するのでよりフィットしやすくなる\n",
    "* max_depth[default=6]\n",
    "    * 木の深さの最大\n",
    "* min_child_weight[default=1.]\n",
    "    * 子ノードにおける最小重み（？\n",
    "    * たぶんノードに含まれるデータの中にこの重みを超えるものがないと更新しないという意味か？\n",
    "        * 大きい損失が含まれるノードが優先的に探索される\n",
    "* max_delta_step[default=0]\n",
    "    * よくわからない\n",
    "    * 雰囲気、大きくすると一つの木の影響が小さくなる？\n",
    "* subsample[default=1]\n",
    "    * 一つの木を学習するのに使うサンプル数\n",
    "    * あえて全てのデータを見ないことでオーバーフィットを防ぐ\n",
    "* colsample_bytree[default=1]\n",
    "    * 各木を作成するときのサブサンプルの割合\n",
    "    \n",
    "## タスク変数\n",
    "* objective[default=reg:linear]\n",
    "* base_score[default=.5]\n",
    "* eval_metric[dafault=according to objective]\n",
    "    * 二乗平均平方根誤差（RMSE)\n",
    "    * 負の対数尤度(logloss)\n",
    "    * 分類誤差（二値分類）。他クラスだとmerror\n",
    "    * 他クラスの対数損失\n",
    "    * AUC\n",
    "    * mean average precision"
   ]
  },
  {
   "cell_type": "code",
   "execution_count": 13,
   "metadata": {
    "collapsed": true
   },
   "outputs": [],
   "source": [
    "params = {'objective':'multi:softprob',\n",
    "         'eval_metric':'mlogloss',\n",
    "         'eta': .3,\n",
    "         'num_class':3}"
   ]
  },
  {
   "cell_type": "code",
   "execution_count": 14,
   "metadata": {
    "collapsed": true
   },
   "outputs": [],
   "source": [
    "np.random.seed(71)\n",
    "bst = xgb.train(params,dm,num_boost_round=18)"
   ]
  },
  {
   "cell_type": "code",
   "execution_count": 15,
   "metadata": {
    "collapsed": false
   },
   "outputs": [
    {
     "data": {
      "text/plain": [
       "<matplotlib.axes._subplots.AxesSubplot at 0x1095e1a90>"
      ]
     },
     "execution_count": 15,
     "metadata": {},
     "output_type": "execute_result"
    },
    {
     "data": {
      "image/png": "[encoded data removed]",
      "text/plain": [
       "<matplotlib.figure.Figure at 0x106ce2b10>"
      ]
     },
     "metadata": {},
     "output_type": "display_data"
    }
   ],
   "source": [
    "xgb.plot_importance(bst)"
   ]
  },
  {
   "cell_type": "markdown",
   "metadata": {},
   "source": [
    "# CrossValidation\n",
    "xgb.cvで行う\n",
    "\n",
    "## 引数\n",
    "\n",
    "* num_boost_round:\n",
    "    * boostingを行う回数\n",
    "    * 0~指定した回数　までのブースティング木をつくり、それぞれの結果を出力する\n",
    "* nfold\n",
    "    * データセットを分割する数\n",
    "    * これで指定した数だけのsubsetが作成される"
   ]
  },
  {
   "cell_type": "code",
   "execution_count": 16,
   "metadata": {
    "collapsed": true
   },
   "outputs": [],
   "source": [
    "cv = xgb.cv(params,dm,num_boost_round=200,nfold=10)"
   ]
  },
  {
   "cell_type": "code",
   "execution_count": 37,
   "metadata": {
    "collapsed": false
   },
   "outputs": [
    {
     "data": {
      "text/html": [
       "<div>\n",
       "<table border=\"1\" class=\"dataframe\">\n",
       "  <thead>\n",
       "    <tr style=\"text-align: right;\">\n",
       "      <th></th>\n",
       "      <th>test-mlogloss-mean</th>\n",
       "      <th>test-mlogloss-std</th>\n",
       "      <th>train-mlogloss-mean</th>\n",
       "      <th>train-mlogloss-std</th>\n",
       "    </tr>\n",
       "  </thead>\n",
       "  <tbody>\n",
       "    <tr>\n",
       "      <th>11</th>\n",
       "      <td>0.175506</td>\n",
       "      <td>0.177823</td>\n",
       "      <td>0.058496</td>\n",
       "      <td>0.004715</td>\n",
       "    </tr>\n",
       "    <tr>\n",
       "      <th>13</th>\n",
       "      <td>0.175514</td>\n",
       "      <td>0.194641</td>\n",
       "      <td>0.045222</td>\n",
       "      <td>0.004117</td>\n",
       "    </tr>\n",
       "    <tr>\n",
       "      <th>14</th>\n",
       "      <td>0.176150</td>\n",
       "      <td>0.203265</td>\n",
       "      <td>0.040493</td>\n",
       "      <td>0.004050</td>\n",
       "    </tr>\n",
       "    <tr>\n",
       "      <th>12</th>\n",
       "      <td>0.176277</td>\n",
       "      <td>0.186902</td>\n",
       "      <td>0.051074</td>\n",
       "      <td>0.004423</td>\n",
       "    </tr>\n",
       "    <tr>\n",
       "      <th>15</th>\n",
       "      <td>0.177926</td>\n",
       "      <td>0.208648</td>\n",
       "      <td>0.036855</td>\n",
       "      <td>0.003836</td>\n",
       "    </tr>\n",
       "  </tbody>\n",
       "</table>\n",
       "</div>"
      ],
      "text/plain": [
       "    test-mlogloss-mean  test-mlogloss-std  train-mlogloss-mean  \\\n",
       "11            0.175506           0.177823             0.058496   \n",
       "13            0.175514           0.194641             0.045222   \n",
       "14            0.176150           0.203265             0.040493   \n",
       "12            0.176277           0.186902             0.051074   \n",
       "15            0.177926           0.208648             0.036855   \n",
       "\n",
       "    train-mlogloss-std  \n",
       "11            0.004715  \n",
       "13            0.004117  \n",
       "14            0.004050  \n",
       "12            0.004423  \n",
       "15            0.003836  "
      ]
     },
     "execution_count": 37,
     "metadata": {},
     "output_type": "execute_result"
    }
   ],
   "source": [
    "cv.sort(\"test-mlogloss-mean\",ascending=True).head()"
   ]
  },
  {
   "cell_type": "code",
   "execution_count": 22,
   "metadata": {
    "collapsed": false
   },
   "outputs": [
    {
     "data": {
      "text/plain": [
       "[<matplotlib.lines.Line2D at 0x10a027a10>]"
      ]
     },
     "execution_count": 22,
     "metadata": {},
     "output_type": "execute_result"
    },
    {
     "data": {
      "image/png": "[encoded data removed]",
      "text/plain": [
       "<matplotlib.figure.Figure at 0x10a027990>"
      ]
     },
     "metadata": {},
     "output_type": "display_data"
    }
   ],
   "source": [
    "plt.plot(cv[\"test-mlogloss-mean\"])\n",
    "plt.plot(cv[\"train-mlogloss-mean\"])"
   ]
  },
  {
   "cell_type": "markdown",
   "metadata": {},
   "source": [
    "学習パラメータを変えてやってみる"
   ]
  },
  {
   "cell_type": "code",
   "execution_count": 25,
   "metadata": {
    "collapsed": false
   },
   "outputs": [],
   "source": [
    "params_custom = {'objective':'multi:softprob',\n",
    "         'eval_metric':'mlogloss',\n",
    "         'eta': .3,\n",
    "         'num_class':3,\n",
    "         'subsample':.5,\n",
    "         'gamma':2.,\n",
    "         'max_depth': 5}"
   ]
  },
  {
   "cell_type": "code",
   "execution_count": 27,
   "metadata": {
    "collapsed": false
   },
   "outputs": [],
   "source": [
    "cv2 = xgb.cv(params_custom,dm,num_boost_round=200,nfold=10)"
   ]
  },
  {
   "cell_type": "code",
   "execution_count": 36,
   "metadata": {
    "collapsed": false
   },
   "outputs": [
    {
     "data": {
      "text/html": [
       "<div>\n",
       "<table border=\"1\" class=\"dataframe\">\n",
       "  <thead>\n",
       "    <tr style=\"text-align: right;\">\n",
       "      <th></th>\n",
       "      <th>test-mlogloss-mean</th>\n",
       "      <th>test-mlogloss-std</th>\n",
       "      <th>train-mlogloss-mean</th>\n",
       "      <th>train-mlogloss-std</th>\n",
       "    </tr>\n",
       "  </thead>\n",
       "  <tbody>\n",
       "    <tr>\n",
       "      <th>87</th>\n",
       "      <td>0.170022</td>\n",
       "      <td>0.107676</td>\n",
       "      <td>0.127775</td>\n",
       "      <td>0.007256</td>\n",
       "    </tr>\n",
       "    <tr>\n",
       "      <th>140</th>\n",
       "      <td>0.170137</td>\n",
       "      <td>0.108713</td>\n",
       "      <td>0.124733</td>\n",
       "      <td>0.007648</td>\n",
       "    </tr>\n",
       "    <tr>\n",
       "      <th>141</th>\n",
       "      <td>0.170246</td>\n",
       "      <td>0.108959</td>\n",
       "      <td>0.124722</td>\n",
       "      <td>0.007600</td>\n",
       "    </tr>\n",
       "    <tr>\n",
       "      <th>139</th>\n",
       "      <td>0.170537</td>\n",
       "      <td>0.111437</td>\n",
       "      <td>0.124697</td>\n",
       "      <td>0.007720</td>\n",
       "    </tr>\n",
       "    <tr>\n",
       "      <th>142</th>\n",
       "      <td>0.170539</td>\n",
       "      <td>0.108347</td>\n",
       "      <td>0.124677</td>\n",
       "      <td>0.007600</td>\n",
       "    </tr>\n",
       "  </tbody>\n",
       "</table>\n",
       "</div>"
      ],
      "text/plain": [
       "     test-mlogloss-mean  test-mlogloss-std  train-mlogloss-mean  \\\n",
       "87             0.170022           0.107676             0.127775   \n",
       "140            0.170137           0.108713             0.124733   \n",
       "141            0.170246           0.108959             0.124722   \n",
       "139            0.170537           0.111437             0.124697   \n",
       "142            0.170539           0.108347             0.124677   \n",
       "\n",
       "     train-mlogloss-std  \n",
       "87             0.007256  \n",
       "140            0.007648  \n",
       "141            0.007600  \n",
       "139            0.007720  \n",
       "142            0.007600  "
      ]
     },
     "execution_count": 36,
     "metadata": {},
     "output_type": "execute_result"
    }
   ],
   "source": [
    "cv2.sort(\"test-mlogloss-mean\").head()"
   ]
  },
  {
   "cell_type": "code",
   "execution_count": 31,
   "metadata": {
    "collapsed": false
   },
   "outputs": [
    {
     "data": {
      "text/plain": [
       "[<matplotlib.lines.Line2D at 0x10a552450>]"
      ]
     },
     "execution_count": 31,
     "metadata": {},
     "output_type": "execute_result"
    },
    {
     "data": {
      "image/png": "[encoded data removed]",
      "text/plain": [
       "<matplotlib.figure.Figure at 0x10a552050>"
      ]
     },
     "metadata": {},
     "output_type": "display_data"
    }
   ],
   "source": [
    "plt.plot(cv2[\"test-mlogloss-mean\"])\n",
    "plt.plot(cv2[\"train-mlogloss-mean\"])"
   ]
  },
  {
   "cell_type": "markdown",
   "metadata": {},
   "source": [
    "二つの比較"
   ]
  },
  {
   "cell_type": "code",
   "execution_count": 33,
   "metadata": {
    "collapsed": false
   },
   "outputs": [
    {
     "data": {
      "text/plain": [
       "<matplotlib.text.Text at 0x10ab2f6d0>"
      ]
     },
     "execution_count": 33,
     "metadata": {},
     "output_type": "execute_result"
    },
    {
     "data": {
      "image/png": "[encoded data removed]",
      "text/plain": [
       "<matplotlib.figure.Figure at 0x10a9eaf10>"
      ]
     },
     "metadata": {},
     "output_type": "display_data"
    }
   ],
   "source": [
    "plt.subplot(1,2,1)\n",
    "plt.plot(cv[\"test-mlogloss-mean\"])\n",
    "plt.plot(cv[\"train-mlogloss-mean\"])\n",
    "plt.title(\"eta=.3\")\n",
    "plt.subplot(1,2,2)\n",
    "plt.plot(cv2[\"test-mlogloss-mean\"])\n",
    "plt.plot(cv2[\"train-mlogloss-mean\"])\n",
    "plt.title(\"maxdepth=5 & dropout\")"
   ]
  },
  {
   "cell_type": "code",
   "execution_count": 40,
   "metadata": {
    "collapsed": false
   },
   "outputs": [
    {
     "data": {
      "text/plain": [
       "198"
      ]
     },
     "execution_count": 40,
     "metadata": {},
     "output_type": "execute_result"
    }
   ],
   "source": [
    "cv2.sort(\"train-mlogloss-mean\").index[0]"
   ]
  },
  {
   "cell_type": "code",
   "execution_count": null,
   "metadata": {
    "collapsed": true
   },
   "outputs": [],
   "source": []
  }
 ],
 "metadata": {
  "kernelspec": {
   "display_name": "Python 2",
   "language": "python",
   "name": "python2"
  },
  "language_info": {
   "codemirror_mode": {
    "name": "ipython",
    "version": 2
   },
   "file_extension": ".py",
   "mimetype": "text/x-python",
   "name": "python",
   "nbconvert_exporter": "python",
   "pygments_lexer": "ipython2",
   "version": "2.7.11"
  }
 },
 "nbformat": 4,
 "nbformat_minor": 0
}
