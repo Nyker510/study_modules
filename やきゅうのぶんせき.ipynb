{
 "cells": [
  {
   "cell_type": "code",
   "execution_count": 1,
   "metadata": {
    "collapsed": true
   },
   "outputs": [],
   "source": [
    "import numpy as np\n",
    "import pandas as pd\n",
    "import matplotlib.pyplot as plt\n",
    "%matplotlib inline"
   ]
  },
  {
   "cell_type": "code",
   "execution_count": 173,
   "metadata": {
    "collapsed": false
   },
   "outputs": [],
   "source": [
    "df = pd.read_csv(\"https://raw.githubusercontent.com/Nyker510/baseball_dataset/master/battingdata2015.csv\",\n",
    "                index_col=False)"
   ]
  },
  {
   "cell_type": "code",
   "execution_count": 174,
   "metadata": {
    "collapsed": false
   },
   "outputs": [
    {
     "data": {
      "text/html": [
       "<div>\n",
       "<table border=\"1\" class=\"dataframe\">\n",
       "  <thead>\n",
       "    <tr style=\"text-align: right;\">\n",
       "      <th></th>\n",
       "      <th>Unnamed: 0</th>\n",
       "      <th>Team</th>\n",
       "      <th>背番号</th>\n",
       "      <th>選手名</th>\n",
       "      <th>打率</th>\n",
       "      <th>試合</th>\n",
       "      <th>打席数</th>\n",
       "      <th>打数</th>\n",
       "      <th>安打</th>\n",
       "      <th>本塁打</th>\n",
       "      <th>...</th>\n",
       "      <th>四球</th>\n",
       "      <th>死球</th>\n",
       "      <th>三振</th>\n",
       "      <th>犠打</th>\n",
       "      <th>併殺打</th>\n",
       "      <th>長打率</th>\n",
       "      <th>出塁率</th>\n",
       "      <th>OPS</th>\n",
       "      <th>RC27</th>\n",
       "      <th>XR27</th>\n",
       "    </tr>\n",
       "  </thead>\n",
       "  <tbody>\n",
       "    <tr>\n",
       "      <th>0</th>\n",
       "      <td>0</td>\n",
       "      <td>広</td>\n",
       "      <td>33</td>\n",
       "      <td>菊池　涼介</td>\n",
       "      <td>0.256</td>\n",
       "      <td>142</td>\n",
       "      <td>640</td>\n",
       "      <td>558</td>\n",
       "      <td>143</td>\n",
       "      <td>8</td>\n",
       "      <td>...</td>\n",
       "      <td>29</td>\n",
       "      <td>2</td>\n",
       "      <td>91</td>\n",
       "      <td>49</td>\n",
       "      <td>7</td>\n",
       "      <td>0.346</td>\n",
       "      <td>0.294</td>\n",
       "      <td>0.640</td>\n",
       "      <td>3.28</td>\n",
       "      <td>3.25</td>\n",
       "    </tr>\n",
       "    <tr>\n",
       "      <th>1</th>\n",
       "      <td>1</td>\n",
       "      <td>広</td>\n",
       "      <td>9</td>\n",
       "      <td>丸　佳浩</td>\n",
       "      <td>0.250</td>\n",
       "      <td>142</td>\n",
       "      <td>629</td>\n",
       "      <td>527</td>\n",
       "      <td>132</td>\n",
       "      <td>19</td>\n",
       "      <td>...</td>\n",
       "      <td>93</td>\n",
       "      <td>1</td>\n",
       "      <td>142</td>\n",
       "      <td>4</td>\n",
       "      <td>4</td>\n",
       "      <td>0.416</td>\n",
       "      <td>0.362</td>\n",
       "      <td>0.777</td>\n",
       "      <td>5.60</td>\n",
       "      <td>5.63</td>\n",
       "    </tr>\n",
       "    <tr>\n",
       "      <th>2</th>\n",
       "      <td>2</td>\n",
       "      <td>広</td>\n",
       "      <td>63</td>\n",
       "      <td>田中　広輔</td>\n",
       "      <td>0.275</td>\n",
       "      <td>140</td>\n",
       "      <td>587</td>\n",
       "      <td>541</td>\n",
       "      <td>149</td>\n",
       "      <td>8</td>\n",
       "      <td>...</td>\n",
       "      <td>33</td>\n",
       "      <td>7</td>\n",
       "      <td>104</td>\n",
       "      <td>5</td>\n",
       "      <td>8</td>\n",
       "      <td>0.414</td>\n",
       "      <td>0.325</td>\n",
       "      <td>0.739</td>\n",
       "      <td>4.66</td>\n",
       "      <td>4.47</td>\n",
       "    </tr>\n",
       "    <tr>\n",
       "      <th>3</th>\n",
       "      <td>3</td>\n",
       "      <td>広</td>\n",
       "      <td>28</td>\n",
       "      <td>新井　貴浩</td>\n",
       "      <td>0.275</td>\n",
       "      <td>124</td>\n",
       "      <td>476</td>\n",
       "      <td>422</td>\n",
       "      <td>116</td>\n",
       "      <td>7</td>\n",
       "      <td>...</td>\n",
       "      <td>48</td>\n",
       "      <td>2</td>\n",
       "      <td>73</td>\n",
       "      <td>0</td>\n",
       "      <td>15</td>\n",
       "      <td>0.386</td>\n",
       "      <td>0.349</td>\n",
       "      <td>0.735</td>\n",
       "      <td>4.69</td>\n",
       "      <td>4.63</td>\n",
       "    </tr>\n",
       "    <tr>\n",
       "      <th>4</th>\n",
       "      <td>4</td>\n",
       "      <td>広</td>\n",
       "      <td>6</td>\n",
       "      <td>梵　英心</td>\n",
       "      <td>0.237</td>\n",
       "      <td>96</td>\n",
       "      <td>332</td>\n",
       "      <td>283</td>\n",
       "      <td>67</td>\n",
       "      <td>6</td>\n",
       "      <td>...</td>\n",
       "      <td>36</td>\n",
       "      <td>1</td>\n",
       "      <td>49</td>\n",
       "      <td>10</td>\n",
       "      <td>6</td>\n",
       "      <td>0.360</td>\n",
       "      <td>0.323</td>\n",
       "      <td>0.683</td>\n",
       "      <td>3.89</td>\n",
       "      <td>3.93</td>\n",
       "    </tr>\n",
       "  </tbody>\n",
       "</table>\n",
       "<p>5 rows × 22 columns</p>\n",
       "</div>"
      ],
      "text/plain": [
       "   Unnamed: 0 Team  背番号    選手名     打率   試合  打席数   打数   安打  本塁打  ...   四球  死球  \\\n",
       "0           0    広   33  菊池　涼介  0.256  142  640  558  143    8  ...   29   2   \n",
       "1           1    広    9   丸　佳浩  0.250  142  629  527  132   19  ...   93   1   \n",
       "2           2    広   63  田中　広輔  0.275  140  587  541  149    8  ...   33   7   \n",
       "3           3    広   28  新井　貴浩  0.275  124  476  422  116    7  ...   48   2   \n",
       "4           4    広    6   梵　英心  0.237   96  332  283   67    6  ...   36   1   \n",
       "\n",
       "    三振  犠打  併殺打    長打率    出塁率    OPS  RC27  XR27  \n",
       "0   91  49    7  0.346  0.294  0.640  3.28  3.25  \n",
       "1  142   4    4  0.416  0.362  0.777  5.60  5.63  \n",
       "2  104   5    8  0.414  0.325  0.739  4.66  4.47  \n",
       "3   73   0   15  0.386  0.349  0.735  4.69  4.63  \n",
       "4   49  10    6  0.360  0.323  0.683  3.89  3.93  \n",
       "\n",
       "[5 rows x 22 columns]"
      ]
     },
     "execution_count": 174,
     "metadata": {},
     "output_type": "execute_result"
    }
   ],
   "source": [
    "df.head()"
   ]
  },
  {
   "cell_type": "code",
   "execution_count": 175,
   "metadata": {
    "collapsed": true
   },
   "outputs": [],
   "source": [
    "df = df.drop(\"Unnamed: 0\",axis=1)"
   ]
  },
  {
   "cell_type": "code",
   "execution_count": 176,
   "metadata": {
    "collapsed": false
   },
   "outputs": [],
   "source": [
    "df = df.dropna()"
   ]
  },
  {
   "cell_type": "code",
   "execution_count": 177,
   "metadata": {
    "collapsed": false
   },
   "outputs": [
    {
     "data": {
      "text/html": [
       "<div>\n",
       "<table border=\"1\" class=\"dataframe\">\n",
       "  <thead>\n",
       "    <tr style=\"text-align: right;\">\n",
       "      <th></th>\n",
       "      <th>Team</th>\n",
       "      <th>背番号</th>\n",
       "      <th>選手名</th>\n",
       "      <th>打率</th>\n",
       "      <th>試合</th>\n",
       "      <th>打席数</th>\n",
       "      <th>打数</th>\n",
       "      <th>安打</th>\n",
       "      <th>本塁打</th>\n",
       "      <th>打点</th>\n",
       "      <th>...</th>\n",
       "      <th>四球</th>\n",
       "      <th>死球</th>\n",
       "      <th>三振</th>\n",
       "      <th>犠打</th>\n",
       "      <th>併殺打</th>\n",
       "      <th>長打率</th>\n",
       "      <th>出塁率</th>\n",
       "      <th>OPS</th>\n",
       "      <th>RC27</th>\n",
       "      <th>XR27</th>\n",
       "    </tr>\n",
       "  </thead>\n",
       "  <tbody>\n",
       "    <tr>\n",
       "      <th>0</th>\n",
       "      <td>広</td>\n",
       "      <td>33</td>\n",
       "      <td>菊池　涼介</td>\n",
       "      <td>0.256</td>\n",
       "      <td>142</td>\n",
       "      <td>640</td>\n",
       "      <td>558</td>\n",
       "      <td>143</td>\n",
       "      <td>8</td>\n",
       "      <td>32</td>\n",
       "      <td>...</td>\n",
       "      <td>29</td>\n",
       "      <td>2</td>\n",
       "      <td>91</td>\n",
       "      <td>49</td>\n",
       "      <td>7</td>\n",
       "      <td>0.346</td>\n",
       "      <td>0.294</td>\n",
       "      <td>0.640</td>\n",
       "      <td>3.28</td>\n",
       "      <td>3.25</td>\n",
       "    </tr>\n",
       "    <tr>\n",
       "      <th>1</th>\n",
       "      <td>広</td>\n",
       "      <td>9</td>\n",
       "      <td>丸　佳浩</td>\n",
       "      <td>0.250</td>\n",
       "      <td>142</td>\n",
       "      <td>629</td>\n",
       "      <td>527</td>\n",
       "      <td>132</td>\n",
       "      <td>19</td>\n",
       "      <td>63</td>\n",
       "      <td>...</td>\n",
       "      <td>93</td>\n",
       "      <td>1</td>\n",
       "      <td>142</td>\n",
       "      <td>4</td>\n",
       "      <td>4</td>\n",
       "      <td>0.416</td>\n",
       "      <td>0.362</td>\n",
       "      <td>0.777</td>\n",
       "      <td>5.60</td>\n",
       "      <td>5.63</td>\n",
       "    </tr>\n",
       "    <tr>\n",
       "      <th>2</th>\n",
       "      <td>広</td>\n",
       "      <td>63</td>\n",
       "      <td>田中　広輔</td>\n",
       "      <td>0.275</td>\n",
       "      <td>140</td>\n",
       "      <td>587</td>\n",
       "      <td>541</td>\n",
       "      <td>149</td>\n",
       "      <td>8</td>\n",
       "      <td>45</td>\n",
       "      <td>...</td>\n",
       "      <td>33</td>\n",
       "      <td>7</td>\n",
       "      <td>104</td>\n",
       "      <td>5</td>\n",
       "      <td>8</td>\n",
       "      <td>0.414</td>\n",
       "      <td>0.325</td>\n",
       "      <td>0.739</td>\n",
       "      <td>4.66</td>\n",
       "      <td>4.47</td>\n",
       "    </tr>\n",
       "    <tr>\n",
       "      <th>3</th>\n",
       "      <td>広</td>\n",
       "      <td>28</td>\n",
       "      <td>新井　貴浩</td>\n",
       "      <td>0.275</td>\n",
       "      <td>124</td>\n",
       "      <td>476</td>\n",
       "      <td>422</td>\n",
       "      <td>116</td>\n",
       "      <td>7</td>\n",
       "      <td>57</td>\n",
       "      <td>...</td>\n",
       "      <td>48</td>\n",
       "      <td>2</td>\n",
       "      <td>73</td>\n",
       "      <td>0</td>\n",
       "      <td>15</td>\n",
       "      <td>0.386</td>\n",
       "      <td>0.349</td>\n",
       "      <td>0.735</td>\n",
       "      <td>4.69</td>\n",
       "      <td>4.63</td>\n",
       "    </tr>\n",
       "    <tr>\n",
       "      <th>4</th>\n",
       "      <td>広</td>\n",
       "      <td>6</td>\n",
       "      <td>梵　英心</td>\n",
       "      <td>0.237</td>\n",
       "      <td>96</td>\n",
       "      <td>332</td>\n",
       "      <td>283</td>\n",
       "      <td>67</td>\n",
       "      <td>6</td>\n",
       "      <td>27</td>\n",
       "      <td>...</td>\n",
       "      <td>36</td>\n",
       "      <td>1</td>\n",
       "      <td>49</td>\n",
       "      <td>10</td>\n",
       "      <td>6</td>\n",
       "      <td>0.360</td>\n",
       "      <td>0.323</td>\n",
       "      <td>0.683</td>\n",
       "      <td>3.89</td>\n",
       "      <td>3.93</td>\n",
       "    </tr>\n",
       "  </tbody>\n",
       "</table>\n",
       "<p>5 rows × 21 columns</p>\n",
       "</div>"
      ],
      "text/plain": [
       "  Team  背番号    選手名     打率   試合  打席数   打数   安打  本塁打  打点  ...   四球  死球   三振  犠打  \\\n",
       "0    広   33  菊池　涼介  0.256  142  640  558  143    8  32  ...   29   2   91  49   \n",
       "1    広    9   丸　佳浩  0.250  142  629  527  132   19  63  ...   93   1  142   4   \n",
       "2    広   63  田中　広輔  0.275  140  587  541  149    8  45  ...   33   7  104   5   \n",
       "3    広   28  新井　貴浩  0.275  124  476  422  116    7  57  ...   48   2   73   0   \n",
       "4    広    6   梵　英心  0.237   96  332  283   67    6  27  ...   36   1   49  10   \n",
       "\n",
       "   併殺打    長打率    出塁率    OPS  RC27  XR27  \n",
       "0    7  0.346  0.294  0.640  3.28  3.25  \n",
       "1    4  0.416  0.362  0.777  5.60  5.63  \n",
       "2    8  0.414  0.325  0.739  4.66  4.47  \n",
       "3   15  0.386  0.349  0.735  4.69  4.63  \n",
       "4    6  0.360  0.323  0.683  3.89  3.93  \n",
       "\n",
       "[5 rows x 21 columns]"
      ]
     },
     "execution_count": 177,
     "metadata": {},
     "output_type": "execute_result"
    }
   ],
   "source": [
    "df.head()"
   ]
  },
  {
   "cell_type": "code",
   "execution_count": 178,
   "metadata": {
    "collapsed": true
   },
   "outputs": [],
   "source": [
    "df_player = pd.read_csv(\"https://raw.githubusercontent.com/Nyker510/baseball_dataset/master/player_info_table.csv\")"
   ]
  },
  {
   "cell_type": "code",
   "execution_count": 179,
   "metadata": {
    "collapsed": false
   },
   "outputs": [],
   "source": [
    "df_player = df_player.drop(\"Unnamed: 0\",axis=1)"
   ]
  },
  {
   "cell_type": "code",
   "execution_count": 180,
   "metadata": {
    "collapsed": false
   },
   "outputs": [],
   "source": [
    "df_merged = pd.merge(df,df_player,on=\"選手名\")"
   ]
  },
  {
   "cell_type": "code",
   "execution_count": 181,
   "metadata": {
    "collapsed": true
   },
   "outputs": [],
   "source": [
    "import xgboost as xgb"
   ]
  },
  {
   "cell_type": "code",
   "execution_count": 182,
   "metadata": {
    "collapsed": false
   },
   "outputs": [],
   "source": [
    "df_merged[df_merged[\"年俸(推定)\"] == \"-\"] = 0"
   ]
  },
  {
   "cell_type": "code",
   "execution_count": 183,
   "metadata": {
    "collapsed": true
   },
   "outputs": [],
   "source": [
    "df_merged = df_merged[df_merged[\"年俸(推定)\"] > 0]"
   ]
  },
  {
   "cell_type": "code",
   "execution_count": 184,
   "metadata": {
    "collapsed": false
   },
   "outputs": [],
   "source": [
    "df_merged[\"年俸(推定)\"] = df_merged[\"年俸(推定)\"].astype(\"int\")"
   ]
  },
  {
   "cell_type": "code",
   "execution_count": 188,
   "metadata": {
    "collapsed": true
   },
   "outputs": [],
   "source": [
    "df_x = df_merged.dropna()"
   ]
  },
  {
   "cell_type": "code",
   "execution_count": 189,
   "metadata": {
    "collapsed": false
   },
   "outputs": [
    {
     "name": "stderr",
     "output_type": "stream",
     "text": [
      "/Users/NYer510/anaconda/lib/python2.7/site-packages/ipykernel/__main__.py:1: SettingWithCopyWarning: \n",
      "A value is trying to be set on a copy of a slice from a DataFrame\n",
      "\n",
      "See the the caveats in the documentation: http://pandas.pydata.org/pandas-docs/stable/indexing.html#indexing-view-versus-copy\n",
      "  if __name__ == '__main__':\n"
     ]
    }
   ],
   "source": [
    "df_x[\"RC27\"][df_x[\"RC27\"] == '\\xe2\\x88\\x9e'] = np.NAN"
   ]
  },
  {
   "cell_type": "code",
   "execution_count": 190,
   "metadata": {
    "collapsed": false
   },
   "outputs": [],
   "source": [
    "df_x[\"RC27\"] = df_x[\"RC27\"].dropna().astype(\"float\")"
   ]
  },
  {
   "cell_type": "code",
   "execution_count": 191,
   "metadata": {
    "collapsed": false
   },
   "outputs": [
    {
     "data": {
      "text/plain": [
       "Index([u'打率', u'試合', u'打席数', u'打数', u'安打', u'本塁打', u'打点', u'盗塁', u'四球', u'死球',\n",
       "       u'三振', u'犠打', u'併殺打', u'長打率', u'出塁率', u'OPS', u'RC27', u'年齢', u'年数',\n",
       "       u'身長', u'体重', u'年俸(推定)', u'Team_x_ヤ', u'Team_x_中', u'Team_x_巨',\n",
       "       u'Team_x_広', u'Team_x_横', u'Team_x_阪', u'守備_内野手', u'守備_外野手', u'守備_投手',\n",
       "       u'守備_捕手', u'血液型_A', u'血液型_AB', u'血液型_B', u'血液型_O', u'血液型_不明',\n",
       "       u'出身地_アメリカ', u'出身地_アンティル', u'出身地_オーストラリア', u'出身地_キューバ', u'出身地_ドミニカ共和国',\n",
       "       u'出身地_ブラジル', u'出身地_ベネズエラ', u'出身地_三重', u'出身地_京都', u'出身地_佐賀', u'出身地_兵庫',\n",
       "       u'出身地_北海道', u'出身地_千葉', u'出身地_和歌山', u'出身地_埼玉', u'出身地_大阪', u'出身地_奈良',\n",
       "       u'出身地_宮城', u'出身地_宮崎', u'出身地_富山', u'出身地_山口', u'出身地_山梨', u'出身地_岐阜',\n",
       "       u'出身地_岡山', u'出身地_岩手', u'出身地_島根', u'出身地_広島', u'出身地_徳島', u'出身地_愛知',\n",
       "       u'出身地_新潟', u'出身地_東京', u'出身地_栃木', u'出身地_沖縄', u'出身地_熊本', u'出身地_石川',\n",
       "       u'出身地_神奈川', u'出身地_福井', u'出身地_福岡', u'出身地_福島', u'出身地_群馬', u'出身地_茨城',\n",
       "       u'出身地_長崎', u'出身地_青森', u'出身地_静岡', u'出身地_鹿児島', u'投_右', u'投_左', u'打_両',\n",
       "       u'打_右', u'打_左'],\n",
       "      dtype='object')"
      ]
     },
     "execution_count": 191,
     "metadata": {},
     "output_type": "execute_result"
    }
   ],
   "source": [
    "df_x  =df_x.drop([\"選手名\",\"背番号\",\"Team_y\",\"生年月日\",\"XR27\",\"No.\"],axis=1)\n",
    "pd.get_dummies(df_x).columns"
   ]
  },
  {
   "cell_type": "code",
   "execution_count": 203,
   "metadata": {
    "collapsed": true
   },
   "outputs": [],
   "source": [
    "df_x_dummies = pd.get_dummies(df_x)"
   ]
  },
  {
   "cell_type": "code",
   "execution_count": 204,
   "metadata": {
    "collapsed": false
   },
   "outputs": [],
   "source": [
    "df_x_dummies = df_x_dummies.dropna()\n",
    "target = df_x_dummies[\"年俸(推定)\"]\n",
    "df_x_dummies = df_x_dummies.drop(\"年俸(推定)\",axis=1)"
   ]
  },
  {
   "cell_type": "code",
   "execution_count": 205,
   "metadata": {
    "collapsed": false
   },
   "outputs": [
    {
     "name": "stdout",
     "output_type": "stream",
     "text": [
      "打率\n",
      "試合\n",
      "打席数\n",
      "打数\n",
      "安打\n",
      "本塁打\n",
      "打点\n",
      "盗塁\n",
      "四球\n",
      "死球\n",
      "三振\n",
      "犠打\n",
      "併殺打\n",
      "長打率\n",
      "出塁率\n",
      "OPS\n",
      "RC27\n",
      "年齢\n",
      "年数\n",
      "身長\n",
      "体重\n",
      "Team_x_ヤ\n",
      "Team_x_中\n",
      "Team_x_巨\n",
      "Team_x_広\n",
      "Team_x_横\n",
      "Team_x_阪\n",
      "守備_内野手\n",
      "守備_外野手\n",
      "守備_投手\n",
      "守備_捕手\n",
      "血液型_A\n",
      "血液型_AB\n",
      "血液型_B\n",
      "血液型_O\n",
      "血液型_不明\n",
      "出身地_アメリカ\n",
      "出身地_アンティル\n",
      "出身地_オーストラリア\n",
      "出身地_キューバ\n",
      "出身地_ドミニカ共和国\n",
      "出身地_ブラジル\n",
      "出身地_ベネズエラ\n",
      "出身地_三重\n",
      "出身地_京都\n",
      "出身地_佐賀\n",
      "出身地_兵庫\n",
      "出身地_北海道\n",
      "出身地_千葉\n",
      "出身地_和歌山\n",
      "出身地_埼玉\n",
      "出身地_大阪\n",
      "出身地_奈良\n",
      "出身地_宮城\n",
      "出身地_宮崎\n",
      "出身地_富山\n",
      "出身地_山口\n",
      "出身地_山梨\n",
      "出身地_岐阜\n",
      "出身地_岡山\n",
      "出身地_岩手\n",
      "出身地_島根\n",
      "出身地_広島\n",
      "出身地_徳島\n",
      "出身地_愛知\n",
      "出身地_新潟\n",
      "出身地_東京\n",
      "出身地_栃木\n",
      "出身地_沖縄\n",
      "出身地_熊本\n",
      "出身地_石川\n",
      "出身地_神奈川\n",
      "出身地_福井\n",
      "出身地_福岡\n",
      "出身地_福島\n",
      "出身地_群馬\n",
      "出身地_茨城\n",
      "出身地_長崎\n",
      "出身地_青森\n",
      "出身地_静岡\n",
      "出身地_鹿児島\n",
      "投_右\n",
      "投_左\n",
      "打_両\n",
      "打_右\n",
      "打_左\n"
     ]
    }
   ],
   "source": [
    "for i in df_x_dummies.columns:\n",
    "    print i"
   ]
  },
  {
   "cell_type": "code",
   "execution_count": null,
   "metadata": {
    "collapsed": false
   },
   "outputs": [],
   "source": []
  },
  {
   "cell_type": "code",
   "execution_count": 288,
   "metadata": {
    "collapsed": false
   },
   "outputs": [],
   "source": [
    "perm = np.random.permutation(len(df_x_dummies))\n",
    "train_indx = perm[:110]\n",
    "test_indx = perm[110:]\n",
    "train_dm = xgb.DMatrix(data=df_x_dummies.values[train_indx],label=target.values[train_indx])\n",
    "test_dm = xgb.DMatrix(data=df_x_dummies.values[test_indx],label=target.values[test_indx])"
   ]
  },
  {
   "cell_type": "code",
   "execution_count": 289,
   "metadata": {
    "collapsed": false
   },
   "outputs": [],
   "source": [
    "params = {\n",
    "         'eta': .1,}\n",
    "cv = xgb.cv(params,train_dm,num_boost_round=100)"
   ]
  },
  {
   "cell_type": "code",
   "execution_count": 290,
   "metadata": {
    "collapsed": false
   },
   "outputs": [
    {
     "data": {
      "text/html": [
       "<div>\n",
       "<table border=\"1\" class=\"dataframe\">\n",
       "  <thead>\n",
       "    <tr style=\"text-align: right;\">\n",
       "      <th></th>\n",
       "      <th>test-rmse-mean</th>\n",
       "      <th>test-rmse-std</th>\n",
       "      <th>train-rmse-mean</th>\n",
       "      <th>train-rmse-std</th>\n",
       "    </tr>\n",
       "  </thead>\n",
       "  <tbody>\n",
       "    <tr>\n",
       "      <th>0</th>\n",
       "      <td>6159.216471</td>\n",
       "      <td>1567.119669</td>\n",
       "      <td>6112.529460</td>\n",
       "      <td>766.815910</td>\n",
       "    </tr>\n",
       "    <tr>\n",
       "      <th>1</th>\n",
       "      <td>5869.157227</td>\n",
       "      <td>1642.286903</td>\n",
       "      <td>5669.528320</td>\n",
       "      <td>713.526733</td>\n",
       "    </tr>\n",
       "    <tr>\n",
       "      <th>2</th>\n",
       "      <td>5623.042643</td>\n",
       "      <td>1646.517037</td>\n",
       "      <td>5268.581217</td>\n",
       "      <td>671.085369</td>\n",
       "    </tr>\n",
       "    <tr>\n",
       "      <th>3</th>\n",
       "      <td>5442.547933</td>\n",
       "      <td>1670.479022</td>\n",
       "      <td>4904.246338</td>\n",
       "      <td>630.005733</td>\n",
       "    </tr>\n",
       "    <tr>\n",
       "      <th>4</th>\n",
       "      <td>5323.516276</td>\n",
       "      <td>1660.353314</td>\n",
       "      <td>4567.095215</td>\n",
       "      <td>594.161633</td>\n",
       "    </tr>\n",
       "    <tr>\n",
       "      <th>5</th>\n",
       "      <td>5207.586588</td>\n",
       "      <td>1661.400435</td>\n",
       "      <td>4236.634766</td>\n",
       "      <td>549.097263</td>\n",
       "    </tr>\n",
       "    <tr>\n",
       "      <th>6</th>\n",
       "      <td>5149.927165</td>\n",
       "      <td>1638.298969</td>\n",
       "      <td>3948.701091</td>\n",
       "      <td>520.799112</td>\n",
       "    </tr>\n",
       "    <tr>\n",
       "      <th>7</th>\n",
       "      <td>5108.559896</td>\n",
       "      <td>1617.500161</td>\n",
       "      <td>3682.481771</td>\n",
       "      <td>495.000801</td>\n",
       "    </tr>\n",
       "    <tr>\n",
       "      <th>8</th>\n",
       "      <td>5097.689372</td>\n",
       "      <td>1582.125833</td>\n",
       "      <td>3438.695231</td>\n",
       "      <td>469.337968</td>\n",
       "    </tr>\n",
       "  </tbody>\n",
       "</table>\n",
       "</div>"
      ],
      "text/plain": [
       "   test-rmse-mean  test-rmse-std  train-rmse-mean  train-rmse-std\n",
       "0     6159.216471    1567.119669      6112.529460      766.815910\n",
       "1     5869.157227    1642.286903      5669.528320      713.526733\n",
       "2     5623.042643    1646.517037      5268.581217      671.085369\n",
       "3     5442.547933    1670.479022      4904.246338      630.005733\n",
       "4     5323.516276    1660.353314      4567.095215      594.161633\n",
       "5     5207.586588    1661.400435      4236.634766      549.097263\n",
       "6     5149.927165    1638.298969      3948.701091      520.799112\n",
       "7     5108.559896    1617.500161      3682.481771      495.000801\n",
       "8     5097.689372    1582.125833      3438.695231      469.337968"
      ]
     },
     "execution_count": 290,
     "metadata": {},
     "output_type": "execute_result"
    }
   ],
   "source": [
    "cv.head(9)"
   ]
  },
  {
   "cell_type": "code",
   "execution_count": 291,
   "metadata": {
    "collapsed": false
   },
   "outputs": [],
   "source": [
    "bst = xgb.train(params,train_dm,num_boost_round=cv.sort(\"test-rmse-mean\").index[0])"
   ]
  },
  {
   "cell_type": "code",
   "execution_count": 292,
   "metadata": {
    "collapsed": false
   },
   "outputs": [
    {
     "data": {
      "image/png": "[encoded data removed]",
      "text/plain": [
       "<matplotlib.figure.Figure at 0x1187fc5d0>"
      ]
     },
     "metadata": {},
     "output_type": "display_data"
    }
   ],
   "source": [
    "\n",
    "plt.figure(figsize=(8,8))\n",
    "# plt.plot(train_dm.get_label(),bst.predict(train_dm),\"o\")\n",
    "plt.plot(test_dm.get_label(),bst.predict(test_dm),\"o\")\n",
    "plt.xlim(0,20000)\n",
    "plt.ylim(0,20000)\n",
    "plt.savefig(\"bb_regression.png\")"
   ]
  },
  {
   "cell_type": "code",
   "execution_count": 293,
   "metadata": {
    "collapsed": true
   },
   "outputs": [],
   "source": [
    "import seaborn as sns"
   ]
  },
  {
   "cell_type": "code",
   "execution_count": 294,
   "metadata": {
    "collapsed": false
   },
   "outputs": [
    {
     "data": {
      "text/plain": [
       "<matplotlib.text.Text at 0x119c69d50>"
      ]
     },
     "execution_count": 294,
     "metadata": {},
     "output_type": "execute_result"
    },
    {
     "data": {
      "image/png": "[encoded data removed]",
      "text/plain": [
       "<matplotlib.figure.Figure at 0x118c0fc10>"
      ]
     },
     "metadata": {},
     "output_type": "display_data"
    }
   ],
   "source": [
    "sns.jointplot(test_dm.get_label(),bst.predict(test_dm))\n",
    "plt.xlabel(\"target yen\")\n",
    "plt.ylabel(\"predict yen\")"
   ]
  },
  {
   "cell_type": "code",
   "execution_count": 295,
   "metadata": {
    "collapsed": false
   },
   "outputs": [
    {
     "data": {
      "image/png": "[encoded data removed]",
      "text/plain": [
       "<matplotlib.figure.Figure at 0x118ca5590>"
      ]
     },
     "metadata": {},
     "output_type": "display_data"
    }
   ],
   "source": [
    "sns.set_style(\"white\")\n",
    "grid = sns.JointGrid(test_dm.get_label(),bst.predict(test_dm), space=0, size=6, ratio=3)\n",
    "\n",
    "grid.plot_joint(plt.scatter, color=\"g\")\n",
    "\n",
    "grid = grid.plot_marginals(sns.kdeplot,shade=True)\n",
    "plt.tight_layout()\n",
    "plt.savefig(\"bb_reg.png\")"
   ]
  },
  {
   "cell_type": "code",
   "execution_count": 296,
   "metadata": {
    "collapsed": true
   },
   "outputs": [],
   "source": [
    "pred = bst.predict(test_dm)"
   ]
  },
  {
   "cell_type": "code",
   "execution_count": 310,
   "metadata": {
    "collapsed": false
   },
   "outputs": [],
   "source": [
    "error = pred - test_dm.get_label()\n",
    "price = test_dm.get_label()[error.argmax()]"
   ]
  },
  {
   "cell_type": "code",
   "execution_count": 316,
   "metadata": {
    "collapsed": false
   },
   "outputs": [],
   "source": [
    "max_e_indx = np.abs(error).argmax()"
   ]
  },
  {
   "cell_type": "code",
   "execution_count": 317,
   "metadata": {
    "collapsed": false
   },
   "outputs": [
    {
     "data": {
      "text/plain": [
       "5309.4614"
      ]
     },
     "execution_count": 317,
     "metadata": {},
     "output_type": "execute_result"
    }
   ],
   "source": [
    "pred[max_e_indx]"
   ]
  },
  {
   "cell_type": "code",
   "execution_count": 318,
   "metadata": {
    "collapsed": false
   },
   "outputs": [
    {
     "data": {
      "text/plain": [
       "51000.0"
      ]
     },
     "execution_count": 318,
     "metadata": {},
     "output_type": "execute_result"
    }
   ],
   "source": [
    "test_dm.get_label()[max_e_indx]"
   ]
  },
  {
   "cell_type": "code",
   "execution_count": 319,
   "metadata": {
    "collapsed": false
   },
   "outputs": [
    {
     "data": {
      "text/plain": [
       "打率            0.242\n",
       "試合          111.000\n",
       "打席数         419.000\n",
       "打数          343.000\n",
       "安打           83.000\n",
       "本塁打          15.000\n",
       "打点           47.000\n",
       "盗塁            0.000\n",
       "四球           64.000\n",
       "死球            8.000\n",
       "三振           84.000\n",
       "犠打            0.000\n",
       "併殺打           9.000\n",
       "長打率           0.414\n",
       "出塁率           0.370\n",
       "OPS           0.784\n",
       "RC27          5.510\n",
       "年齢           36.000\n",
       "年数           15.000\n",
       "身長          180.000\n",
       "体重           97.000\n",
       "Team_x_ヤ      0.000\n",
       "Team_x_中      0.000\n",
       "Team_x_巨      1.000\n",
       "Team_x_広      0.000\n",
       "Team_x_横      0.000\n",
       "Team_x_阪      0.000\n",
       "守備_内野手        1.000\n",
       "守備_外野手        0.000\n",
       "守備_投手         0.000\n",
       "             ...   \n",
       "出身地_山口        0.000\n",
       "出身地_山梨        0.000\n",
       "出身地_岐阜        0.000\n",
       "出身地_岡山        0.000\n",
       "出身地_岩手        0.000\n",
       "出身地_島根        0.000\n",
       "出身地_広島        0.000\n",
       "出身地_徳島        0.000\n",
       "出身地_愛知        0.000\n",
       "出身地_新潟        0.000\n",
       "出身地_東京        0.000\n",
       "出身地_栃木        0.000\n",
       "出身地_沖縄        0.000\n",
       "出身地_熊本        0.000\n",
       "出身地_石川        0.000\n",
       "出身地_神奈川       0.000\n",
       "出身地_福井        0.000\n",
       "出身地_福岡        0.000\n",
       "出身地_福島        0.000\n",
       "出身地_群馬        0.000\n",
       "出身地_茨城        0.000\n",
       "出身地_長崎        0.000\n",
       "出身地_青森        0.000\n",
       "出身地_静岡        0.000\n",
       "出身地_鹿児島       0.000\n",
       "投_右           1.000\n",
       "投_左           0.000\n",
       "打_両           0.000\n",
       "打_右           0.000\n",
       "打_左           1.000\n",
       "Name: 30, dtype: float64"
      ]
     },
     "execution_count": 319,
     "metadata": {},
     "output_type": "execute_result"
    }
   ],
   "source": [
    "df_x_dummies.ix[test_indx[max_e_indx]]"
   ]
  },
  {
   "cell_type": "code",
   "execution_count": 320,
   "metadata": {
    "collapsed": false
   },
   "outputs": [
    {
     "data": {
      "text/plain": [
       "<matplotlib.axes._subplots.AxesSubplot at 0x118ef6ed0>"
      ]
     },
     "execution_count": 320,
     "metadata": {},
     "output_type": "execute_result"
    },
    {
     "data": {
      "image/png": "[encoded data removed]",
      "text/plain": [
       "<matplotlib.figure.Figure at 0x117c0cf90>"
      ]
     },
     "metadata": {},
     "output_type": "display_data"
    }
   ],
   "source": [
    "xgb.plot_importance(bst)"
   ]
  },
  {
   "cell_type": "code",
   "execution_count": 321,
   "metadata": {
    "collapsed": true
   },
   "outputs": [],
   "source": [
    "df_merged[\"salary\"] = df_merged[\"年俸(推定)\"]"
   ]
  },
  {
   "cell_type": "code",
   "execution_count": 330,
   "metadata": {
    "collapsed": false
   },
   "outputs": [
    {
     "data": {
      "text/plain": [
       "(array([  4.,  31.,  24.,  17.,  13.,   8.,   6.,   8.,   5.,   7.,   1.,\n",
       "          1.,   5.,   1.,   1.,   1.,   1.,   2.,   3.,   5.]),\n",
       " array([     0.,    500.,   1000.,   1500.,   2000.,   2500.,   3000.,\n",
       "          3500.,   4000.,   4500.,   5000.,   5500.,   6000.,   6500.,\n",
       "          7000.,   7500.,   8000.,   8500.,   9000.,   9500.,  10000.]),\n",
       " <a list of 20 Patch objects>)"
      ]
     },
     "execution_count": 330,
     "metadata": {},
     "output_type": "execute_result"
    },
    {
     "data": {
      "image/png": "[encoded data removed]",
      "text/plain": [
       "<matplotlib.figure.Figure at 0x118ec2c50>"
      ]
     },
     "metadata": {},
     "output_type": "display_data"
    }
   ],
   "source": [
    "plt.hist(df_merged.salary,bins=np.linspace(0,10000,21))"
   ]
  },
  {
   "cell_type": "code",
   "execution_count": null,
   "metadata": {
    "collapsed": true
   },
   "outputs": [],
   "source": []
  }
 ],
 "metadata": {
  "kernelspec": {
   "display_name": "Python 2",
   "language": "python",
   "name": "python2"
  },
  "language_info": {
   "codemirror_mode": {
    "name": "ipython",
    "version": 2
   },
   "file_extension": ".py",
   "mimetype": "text/x-python",
   "name": "python",
   "nbconvert_exporter": "python",
   "pygments_lexer": "ipython2",
   "version": "2.7.10"
  }
 },
 "nbformat": 4,
 "nbformat_minor": 0
}
